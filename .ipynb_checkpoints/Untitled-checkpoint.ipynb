{
 "cells": [
  {
   "cell_type": "code",
   "execution_count": 148,
   "id": "bb1f611d-2158-4e74-8bed-9a6fbcc6cf67",
   "metadata": {},
   "outputs": [],
   "source": [
    "import random\n",
    "import os\n",
    "import shutil"
   ]
  },
  {
   "cell_type": "code",
   "execution_count": 150,
   "id": "ece84eec-c566-43f5-8f99-8f13002a7208",
   "metadata": {},
   "outputs": [],
   "source": [
    "source_files = r\"./universe/\"\n",
    "destination_files = r\"./backup/\"\n",
    "newpackup =r\"./newbackup/\""
   ]
  },
  {
   "cell_type": "code",
   "execution_count": 152,
   "id": "f7e9fbc8-0c9c-4c61-adec-fb99e4bab08a",
   "metadata": {},
   "outputs": [],
   "source": [
    "for each_file in os.listdir(source_files):\n",
    "    sourcefile = os.path.join(source_files,each_file)\n",
    "    distinationfile = os.path.join(destination_files,each_file)\n",
    "    if os.path.isfile(sourcefile):\n",
    "        shutil.copy2(sourcefile,distinationfile)"
   ]
  },
  {
   "cell_type": "code",
   "execution_count": 274,
   "id": "ac030019-a1fd-482d-973b-812bf1009d7e",
   "metadata": {},
   "outputs": [],
   "source": [
    "def remove_files():\n",
    "    list_of_files = os.listdir(source_files)\n",
    "    k = len(list_of_files)/2\n",
    "    print(k)\n",
    "    if k <1 and k>0:\n",
    "        k =1\n",
    "    if int(k) > 0:\n",
    "        random_file = random.choices(os.listdir(source_files),k=int(k))\n",
    "        for file in random_file:\n",
    "            if os.path.exists(os.path.join(source_files,file)):\n",
    "                os.remove(os.path.join(source_files,file))\n",
    "                print(f\"done : {os.path.join(source_files,file)}\")\n",
    "            else:\n",
    "                print(f\"notfind : {os.path.join(source_files,file)}\")\n",
    "    else:\n",
    "        print(\"no files in source folder\")"
   ]
  },
  {
   "cell_type": "code",
   "execution_count": 296,
   "id": "a0dc9915-63cd-46c8-91d2-e7654b9303ad",
   "metadata": {},
   "outputs": [],
   "source": [
    "def return_files():\n",
    "    for each_file in os.listdir(destination_files):\n",
    "        sourcefile = os.path.join(destination_files,each_file)\n",
    "        distinationfile = os.path.join(source_files,each_file)\n",
    "        if os.path.isfile(sourcefile):\n",
    "            shutil.copy2(sourcefile,distinationfile)"
   ]
  },
  {
   "cell_type": "code",
   "execution_count": 294,
   "id": "29092ab8-d42e-47f0-b2f3-6619209bc7e8",
   "metadata": {},
   "outputs": [
    {
     "name": "stdout",
     "output_type": "stream",
     "text": [
      "0.0\n",
      "no files in source folder\n"
     ]
    }
   ],
   "source": [
    "remove_files()"
   ]
  },
  {
   "cell_type": "code",
   "execution_count": null,
   "id": "632bd2e4-72de-4643-9f5a-389a0c556977",
   "metadata": {},
   "outputs": [],
   "source": [
    "return_files()"
   ]
  }
 ],
 "metadata": {
  "kernelspec": {
   "display_name": "Python 3 (ipykernel)",
   "language": "python",
   "name": "python3"
  },
  "language_info": {
   "codemirror_mode": {
    "name": "ipython",
    "version": 3
   },
   "file_extension": ".py",
   "mimetype": "text/x-python",
   "name": "python",
   "nbconvert_exporter": "python",
   "pygments_lexer": "ipython3",
   "version": "3.11.7"
  }
 },
 "nbformat": 4,
 "nbformat_minor": 5
}
